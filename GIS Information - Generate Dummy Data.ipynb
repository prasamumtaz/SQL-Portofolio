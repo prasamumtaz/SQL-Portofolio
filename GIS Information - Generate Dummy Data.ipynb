{
 "cells": [
  {
   "cell_type": "markdown",
   "id": "dcb00fc8-79cb-46c1-917a-f3a97af5abd9",
   "metadata": {},
   "source": [
    "# NOMOR 2"
   ]
  },
  {
   "cell_type": "code",
   "execution_count": 42,
   "id": "4e34f56a-d23e-47a9-8ef1-154f3aee4668",
   "metadata": {},
   "outputs": [
    {
     "name": "stdout",
     "output_type": "stream",
     "text": [
      "<mysql.connector.connection_cext.CMySQLConnection object at 0x000001B66474A3D0>\n"
     ]
    }
   ],
   "source": [
    "import mysql.connector\n",
    "import random\n",
    "\n",
    "#-----------------------------Connect to the MySQL DATABASE\n",
    "mydb = mysql.connector.connect(\n",
    "    host='localhost', \n",
    "    user='root',\n",
    "    password='67_Juli12',\n",
    "    database='gis_info_complex')\n",
    "print(mydb)\n",
    "\n",
    "mycursor = mydb.cursor()"
   ]
  },
  {
   "cell_type": "code",
   "execution_count": 43,
   "id": "3710100a-dbca-40e5-b01e-212465a72be6",
   "metadata": {},
   "outputs": [
    {
     "name": "stdout",
     "output_type": "stream",
     "text": [
      "5 record inserted.\n"
     ]
    }
   ],
   "source": [
    "raw_count = 0\n",
    "#TABLE CITY\n",
    "for i in range(20, 25):\n",
    "    city_name = f'C {i+1}'\n",
    "    #SQL query\n",
    "    query = \"INSERT INTO city (city_name) VALUES (%s)\"\n",
    "    val = [city_name]\n",
    "    mycursor.execute(query, val)\n",
    "    raw_count += 1\n",
    "\n",
    "mydb.commit()\n",
    "print(raw_count, \"record inserted.\")"
   ]
  },
  {
   "cell_type": "code",
   "execution_count": 44,
   "id": "26a3260e-d688-4acf-99c9-f1221f89a157",
   "metadata": {},
   "outputs": [
    {
     "name": "stdout",
     "output_type": "stream",
     "text": [
      "20 record inserted.\n"
     ]
    }
   ],
   "source": [
    "raw_count = 0\n",
    "#TABLE District\n",
    "for i in range(20, 25):\n",
    "    for j in range(0, 4):\n",
    "        district_name = f'C {i+1}, D {j+1}'\n",
    "        city_ID = i+1\n",
    "        #SQL query\n",
    "        query = \"INSERT INTO district (district_name, city_ID) VALUES (%s, %s)\"\n",
    "        val = (district_name, city_ID)\n",
    "        mycursor.execute(query, val)\n",
    "        raw_count += 1\n",
    "\n",
    "mydb.commit()\n",
    "print(raw_count, \"record inserted.\")"
   ]
  },
  {
   "cell_type": "code",
   "execution_count": 78,
   "id": "d374abfb-01e9-498d-8140-7795d4b02380",
   "metadata": {},
   "outputs": [
    {
     "name": "stdout",
     "output_type": "stream",
     "text": [
      "24 record inserted.\n"
     ]
    }
   ],
   "source": [
    "raw_count = 0\n",
    "#TABLE Village\n",
    "for i in range(0, 20):\n",
    "    for j in range(0, 5):\n",
    "        for k in range(0, 5):\n",
    "            village_name = f'C {i+1}, D {j+1}, V {k+1}'\n",
    "            district_ID = i*5+j+1\n",
    "            postal_code = f'PC{i+1}{j+1}{k+1}'\n",
    "            #SQL query\n",
    "            query = \"INSERT INTO village (village_name, district_ID, postal_code) VALUES (%s, %s, %s)\"\n",
    "            val = (village_name, district_ID, postal_code)\n",
    "            mycursor.execute(query, val)\n",
    "            raw_count += 1\n",
    "\n",
    "mydb.commit()\n",
    "print(raw_count, \"record inserted.\")"
   ]
  },
  {
   "cell_type": "code",
   "execution_count": 79,
   "id": "30da62cc-fffe-48a6-b0a3-0456b5c83fa8",
   "metadata": {},
   "outputs": [
    {
     "name": "stdout",
     "output_type": "stream",
     "text": [
      "1008 record inserted.\n"
     ]
    }
   ],
   "source": [
    "import random\n",
    "\n",
    "raw_count = 0\n",
    "#TABLE Thematic\n",
    "for i in range(2010, 2024):\n",
    "    for j in range(549, 621):\n",
    "        value = random.randint(1098, 7564)\n",
    "        year = i\n",
    "        category_ID = random.randint(1, 3)\n",
    "        admin_ID = j\n",
    "        #SQL query\n",
    "        query = \"INSERT INTO thematic (value, year, category_ID, admin_ID) VALUES (%s, %s, %s, %s)\"\n",
    "        val = (value, year, category_ID, admin_ID)\n",
    "        mycursor.execute(query, val)\n",
    "        raw_count += 1\n",
    "\n",
    "mydb.commit()\n",
    "print(raw_count, \"record inserted.\")"
   ]
  },
  {
   "cell_type": "code",
   "execution_count": 41,
   "id": "a53c00a3-0e65-4ca2-a0a9-30810ba3a970",
   "metadata": {},
   "outputs": [],
   "source": [
    "#Close the Database Connection\n",
    "mydb.close()"
   ]
  },
  {
   "cell_type": "markdown",
   "id": "9423bcbd-c169-48a2-b00f-5a39cd2459be",
   "metadata": {},
   "source": [
    "# NOMOR 3"
   ]
  },
  {
   "cell_type": "code",
   "execution_count": 2,
   "id": "a67697e8-0561-44c2-a9b5-db3d87908ff4",
   "metadata": {},
   "outputs": [
    {
     "name": "stdout",
     "output_type": "stream",
     "text": [
      "<mysql.connector.connection_cext.CMySQLConnection object at 0x000001D5A3050250>\n",
      "90 record inserted.\n"
     ]
    }
   ],
   "source": [
    "import mysql.connector\n",
    "import random\n",
    "\n",
    "#-----------------------------Connect to the MySQL DATABASE\n",
    "mydb = mysql.connector.connect(\n",
    "    host='localhost', \n",
    "    user='root',\n",
    "    password='67_Juli12',\n",
    "    database='gis_information')\n",
    "print(mydb)\n",
    "\n",
    "#-----------------------------Looping for making dumpy data\n",
    "#initiate all the String Alphabhetic\n",
    "Alpha = ['A', 'B', 'C', 'D', 'E', 'F', 'G', 'H', 'I', 'J']\n",
    "\n",
    "#using .cursor() to allow python execute MySQL\n",
    "mycursor = mydb.cursor()\n",
    "raw_count = 0\n",
    "#1st Looping for the Alphabhetic\n",
    "for i in range(len(Alpha)):\n",
    "    #2nd Looping for the digit (1-100.000)\n",
    "    for j in range(1, 10):\n",
    "        point_name = f'Tower {Alpha[i]}-{j}'\n",
    "        address = f'Jalan {i*100000+j}'\n",
    "        Longitude = round(random.uniform(90.4559, 110.7771), 4)\n",
    "        Latitude = round(random.uniform(-7.9998, 6.7773), 4)\n",
    "        wkt_geometry = f'POINT({Longitude} {Latitude})'\n",
    "\n",
    "        #SQL query\n",
    "        query = \"INSERT INTO point (point_name, address, category_id, geom) VALUES (%s, %s, %s, ST_GeomFromText(%s))\"\n",
    "        \n",
    "        #Every variable that need to be execute\n",
    "        val = (point_name, address, 43, wkt_geometry)\n",
    "\n",
    "        #Execute the query command\n",
    "        mycursor.execute(query, val)\n",
    "        raw_count += 1\n",
    "\n",
    "\n",
    "#sends a COMMIT statement to the MySQL server\n",
    "mydb.commit()\n",
    "print(raw_count, \"record inserted.\")\n",
    "\n",
    "#Close the Database Connection\n",
    "mydb.close()"
   ]
  },
  {
   "cell_type": "code",
   "execution_count": 12,
   "id": "2d26a78d-513a-4cd5-add9-b2f4119ea3a2",
   "metadata": {},
   "outputs": [],
   "source": [
    "import pandas as pd\n",
    "import re\n",
    "\n",
    "#open the CSV file using pandas\n",
    "df = pd.read_csv(r\"E:\\Latihan.csv\", sep=';')\n",
    "\n",
    "#Function for clean the point_name column\n",
    "def point_name_cleaner(point_name):\n",
    "    point_name = re.sub(r'[^a-zA-Z0-9]', ' ', point_name)\n",
    "    point_name = re.sub(r'  ', ' ', point_name)\n",
    "    point_name = point_name.title()\n",
    "\n",
    "    return point_name\n",
    "\n",
    "#Function for clean the address column\n",
    "def address_cleaner(address):\n",
    "    address = address.lower()\n",
    "    address = re.sub(r'jln|jl', 'jalan', address)\n",
    "    address = re.sub(r'\\.', ' ', address)\n",
    "    address = re.sub(r'  ', ' ', address)\n",
    "    address = address.title()\n",
    "    \n",
    "    return address\n",
    "    \n",
    "#Function for clean the phone column\n",
    "def phone_cleaner(phone):\n",
    "    phone = re.sub(r'[^0-9]','', phone)\n",
    "    phone = re.sub(r'^(62)','0', phone)\n",
    "    return phone\n",
    "\n",
    "#Call all the function depand on each column needed\n",
    "df['point_name'] = df.point_name.apply(point_name_cleaner)\n",
    "df['address'] = df.address.apply(address_cleaner)\n",
    "df['phone'] = df.phone.apply(phone_cleaner)\n",
    "\n",
    "#drop any duplicate that appear in the table\n",
    "df = df.drop_duplicates()"
   ]
  },
  {
   "cell_type": "code",
   "execution_count": 13,
   "id": "9ababced-e1a8-4bf2-9d38-e22d08558c0f",
   "metadata": {},
   "outputs": [
    {
     "data": {
      "text/html": [
       "<div>\n",
       "<style scoped>\n",
       "    .dataframe tbody tr th:only-of-type {\n",
       "        vertical-align: middle;\n",
       "    }\n",
       "\n",
       "    .dataframe tbody tr th {\n",
       "        vertical-align: top;\n",
       "    }\n",
       "\n",
       "    .dataframe thead th {\n",
       "        text-align: right;\n",
       "    }\n",
       "</style>\n",
       "<table border=\"1\" class=\"dataframe\">\n",
       "  <thead>\n",
       "    <tr style=\"text-align: right;\">\n",
       "      <th></th>\n",
       "      <th>point_name</th>\n",
       "      <th>address</th>\n",
       "      <th>phone</th>\n",
       "    </tr>\n",
       "  </thead>\n",
       "  <tbody>\n",
       "    <tr>\n",
       "      <th>0</th>\n",
       "      <td>Toko Kue Mahmud</td>\n",
       "      <td>Jalan Prabu No 5</td>\n",
       "      <td>08833452233</td>\n",
       "    </tr>\n",
       "    <tr>\n",
       "      <th>1</th>\n",
       "      <td>Sate Ratu</td>\n",
       "      <td>Jalan Pemuda Karya</td>\n",
       "      <td>086219387232</td>\n",
       "    </tr>\n",
       "    <tr>\n",
       "      <th>2</th>\n",
       "      <td>Artha Store Shoes</td>\n",
       "      <td>Jalan Pelajar</td>\n",
       "      <td>084762593751</td>\n",
       "    </tr>\n",
       "    <tr>\n",
       "      <th>3</th>\n",
       "      <td>Potong Rambut Candimaya</td>\n",
       "      <td>Jalan Malibu Raya</td>\n",
       "      <td>021082761</td>\n",
       "    </tr>\n",
       "    <tr>\n",
       "      <th>4</th>\n",
       "      <td>Lucky Store</td>\n",
       "      <td>Jalan Madu Karya Utama</td>\n",
       "      <td>0219387161</td>\n",
       "    </tr>\n",
       "  </tbody>\n",
       "</table>\n",
       "</div>"
      ],
      "text/plain": [
       "                point_name                 address         phone\n",
       "0          Toko Kue Mahmud        Jalan Prabu No 5   08833452233\n",
       "1                Sate Ratu      Jalan Pemuda Karya  086219387232\n",
       "2        Artha Store Shoes           Jalan Pelajar  084762593751\n",
       "3  Potong Rambut Candimaya       Jalan Malibu Raya     021082761\n",
       "4              Lucky Store  Jalan Madu Karya Utama    0219387161"
      ]
     },
     "execution_count": 13,
     "metadata": {},
     "output_type": "execute_result"
    }
   ],
   "source": [
    "df"
   ]
  }
 ],
 "metadata": {
  "kernelspec": {
   "display_name": "Python 3 (ipykernel)",
   "language": "python",
   "name": "python3"
  },
  "language_info": {
   "codemirror_mode": {
    "name": "ipython",
    "version": 3
   },
   "file_extension": ".py",
   "mimetype": "text/x-python",
   "name": "python",
   "nbconvert_exporter": "python",
   "pygments_lexer": "ipython3",
   "version": "3.11.7"
  }
 },
 "nbformat": 4,
 "nbformat_minor": 5
}
